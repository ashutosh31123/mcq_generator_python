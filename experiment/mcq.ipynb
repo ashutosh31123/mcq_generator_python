{
 "cells": [
  {
   "cell_type": "code",
   "execution_count": 191,
   "metadata": {},
   "outputs": [],
   "source": [
    "import os\n",
    "import json\n",
    "import pandas as pd\n",
    "import traceback"
   ]
  },
  {
   "cell_type": "code",
   "execution_count": 192,
   "metadata": {},
   "outputs": [],
   "source": [
    "from langchain.chat_models import ChatOpenAI"
   ]
  },
  {
   "cell_type": "code",
   "execution_count": 193,
   "metadata": {},
   "outputs": [
    {
     "data": {
      "text/plain": [
       "False"
      ]
     },
     "execution_count": 193,
     "metadata": {},
     "output_type": "execute_result"
    }
   ],
   "source": [
    "from dotenv import load_dotenv\n",
    "\n",
    "load_dotenv() "
   ]
  },
  {
   "cell_type": "code",
   "execution_count": 194,
   "metadata": {},
   "outputs": [],
   "source": [
    "key=os.getenv(\"openai\")"
   ]
  },
  {
   "cell_type": "code",
   "execution_count": 195,
   "metadata": {},
   "outputs": [
    {
     "name": "stdout",
     "output_type": "stream",
     "text": [
      "sk-proj-Iq9OS05oYOPNFtzl8j30T3BlbkFJ8RRR2MhEUlf8TXNskQZq\n"
     ]
    }
   ],
   "source": [
    "print(key)"
   ]
  },
  {
   "cell_type": "code",
   "execution_count": 196,
   "metadata": {},
   "outputs": [],
   "source": [
    "llm=ChatOpenAI(openai_api_key=key,model_name=\"gpt-3.5-turbo\",temperature=0.5)"
   ]
  },
  {
   "cell_type": "code",
   "execution_count": 197,
   "metadata": {},
   "outputs": [
    {
     "data": {
      "text/plain": [
       "ChatOpenAI(client=<openai.resources.chat.completions.Completions object at 0x0000021168BFDFA0>, async_client=<openai.resources.chat.completions.AsyncCompletions object at 0x0000021168C04760>, temperature=0.5, openai_api_key='sk-proj-Iq9OS05oYOPNFtzl8j30T3BlbkFJ8RRR2MhEUlf8TXNskQZq', openai_proxy='')"
      ]
     },
     "execution_count": 197,
     "metadata": {},
     "output_type": "execute_result"
    }
   ],
   "source": [
    "llm"
   ]
  },
  {
   "cell_type": "code",
   "execution_count": 198,
   "metadata": {},
   "outputs": [],
   "source": [
    "from langchain.llms import OpenAI\n",
    "from langchain.prompts import PromptTemplate\n",
    "from langchain.chains import LLMChain\n",
    "from langchain.chains import SequentialChain\n",
    "from langchain.callbacks import get_openai_callback\n",
    "import PyPDF2"
   ]
  },
  {
   "cell_type": "code",
   "execution_count": 199,
   "metadata": {},
   "outputs": [],
   "source": [
    "RESPONSE_JSON={\n",
    "    \"1\":{\n",
    "        \"mcq\":\"multiple choice questions\",\n",
    "        \"options\":{\n",
    "            \"a\":\"choice here\",\n",
    "            \"b\":\"choice here\",\n",
    "            \"c\":\"choice here\",\n",
    "            \"d\":\"choice here\",\n",
    "        },\n",
    "        \"correct\":\"correct answer\",\n",
    "    },\n",
    "    \"2\":{\n",
    "        \"mcq\":\"multiple choice questions\",\n",
    "        \"options\":{\n",
    "            \"a\":\"choice here\",\n",
    "            \"b\":\"choice here\",\n",
    "            \"c\":\"choice here\",\n",
    "            \"d\":\"choice here\",\n",
    "        },\n",
    "        \"correct\":\"correct answer\",\n",
    "    },\n",
    "    \"3\":{\n",
    "        \"mcq\":\"multiple choice questions\",\n",
    "        \"options\":{\n",
    "            \"a\":\"choice here\",\n",
    "            \"b\":\"choice here\",\n",
    "            \"c\":\"choice here\",\n",
    "            \"d\":\"choice here\",\n",
    "        },\n",
    "        \"correct\":\"correct answer\",\n",
    "    },\n",
    "    \"4\":{\n",
    "        \"mcq\":\"multiple choice questions\",\n",
    "        \"options\":{\n",
    "            \"a\":\"choice here\",\n",
    "            \"b\":\"choice here\",\n",
    "            \"c\":\"choice here\",\n",
    "            \"d\":\"choice here\",\n",
    "        },\n",
    "        \"correct\":\"correct answer\",\n",
    "    },\n",
    "}"
   ]
  },
  {
   "cell_type": "code",
   "execution_count": 200,
   "metadata": {},
   "outputs": [],
   "source": [
    "TEMPLATE=\"\"\"\n",
    "Text:{text}\n",
    "You are an expert MCQ maker. Given the above text, it is your job to \\\n",
    "create a quiz  of {number} multiple choice questions for {subject} students in {tone} tone. \n",
    "Make sure the questions are not repeated and check all the questions to be conforming the text as well.\n",
    "Make sure to format your response like  RESPONSE_JSON below  and use it as a guide. \\\n",
    "Ensure to make {number} MCQs\n",
    "### RESPONSE_JSON\n",
    "{response_json}\n",
    "\n",
    "\"\"\""
   ]
  },
  {
   "cell_type": "code",
   "execution_count": 201,
   "metadata": {},
   "outputs": [],
   "source": [
    "quiz_generation_prompt=PromptTemplate(\n",
    "    input_variables=[\"text\",\"number\",\"subject\",\"tone\",\"response_json\"],\n",
    "    template=TEMPLATE\n",
    ")"
   ]
  },
  {
   "cell_type": "code",
   "execution_count": 202,
   "metadata": {},
   "outputs": [],
   "source": [
    "quiz_chain=LLMChain(llm=llm,prompt=quiz_generation_prompt,output_key=\"quiz\",verbose=True)"
   ]
  },
  {
   "cell_type": "code",
   "execution_count": 203,
   "metadata": {},
   "outputs": [],
   "source": [
    "TEMPLATE2=\"\"\"\n",
    "You are an expert english grammarian and writer. Given a Multiple Choice Quiz for {subject} students.\\\n",
    "You need to evaluate the complexity of the question and give a complete analysis of the quiz. Only use at max 50 words for complexity analysis. \n",
    "if the quiz is not at per with the cognitive and analytical abilities of the students,\\\n",
    "update the quiz questions which needs to be changed and change the tone such that it perfectly fits the student abilities\n",
    "Quiz_MCQs:\n",
    "{quiz}\n",
    "\n",
    "Check from an expert English Writer of the above quiz:\n",
    "\"\"\""
   ]
  },
  {
   "cell_type": "code",
   "execution_count": 204,
   "metadata": {},
   "outputs": [],
   "source": [
    "quiz_evaluation_prompt=PromptTemplate(input_variables=[\"subject\", \"quiz\"], template=TEMPLATE)"
   ]
  },
  {
   "cell_type": "code",
   "execution_count": 205,
   "metadata": {},
   "outputs": [],
   "source": [
    "review_chain=LLMChain(llm=llm,prompt=quiz_evaluation_prompt,output_key=\"review\",verbose=True)"
   ]
  },
  {
   "cell_type": "code",
   "execution_count": 206,
   "metadata": {},
   "outputs": [],
   "source": [
    "generate_evaluate_chain=SequentialChain(chains=[quiz_chain, review_chain], input_variables=[\"text\", \"number\", \"subject\", \"tone\", \"response_json\"],\n",
    "                                        output_variables=[\"quiz\", \"review\"], verbose=True,)"
   ]
  },
  {
   "cell_type": "code",
   "execution_count": 207,
   "metadata": {},
   "outputs": [],
   "source": [
    "file_path=r\"C:\\Users\\31ash\\Desktop\\mcq_generator\\data.txt\""
   ]
  },
  {
   "cell_type": "code",
   "execution_count": 208,
   "metadata": {},
   "outputs": [],
   "source": [
    "with open(file_path, 'r') as file:\n",
    "    TEXT = file.read()"
   ]
  },
  {
   "cell_type": "code",
   "execution_count": 209,
   "metadata": {},
   "outputs": [
    {
     "name": "stdout",
     "output_type": "stream",
     "text": [
      "ChatGPT stands as a pinnacle of technical achievement in the realm of artificial intelligence, boasting an impressive array of capabilities honed through state-of-the-art machine learning techniques. At its core lies a sophisticated neural network architecture, meticulously trained on vast datasets encompassing diverse linguistic patterns and knowledge domains. Through the marvel of deep learning, ChatGPT exhibits a profound understanding of language semantics, syntax, and context, enabling it to comprehend and generate text with remarkable fidelity.\n",
      "\n",
      "One of its defining features is its ability to engage in contextually relevant conversations, seamlessly tracking the flow of dialogue and adapting responses accordingly. Leveraging techniques such as attention mechanisms and transformer architectures, ChatGPT excels at capturing long-range dependencies within text, facilitating coherent and contextually grounded interactions.\n",
      "\n",
      "Furthermore, ChatGPT demonstrates impressive language generation capabilities, capable of producing fluent, diverse, and contextually appropriate responses across a wide range of topics. Whether crafting insightful explanations, generating creative narratives, or providing informative summaries, its language generation prowess is a testament to the sophistication of modern natural language processing.\n",
      "\n",
      "Beyond mere text generation, ChatGPT showcases proficiency in tasks such as text summarization, translation, sentiment analysis, and question-answering, underscoring its versatility and utility across diverse applications. By harnessing advanced techniques like transfer learning and fine-tuning, it can adapt to specific tasks and domains with remarkable efficiency, further expanding its practical utility in real-world scenarios.\n",
      "\n",
      "Moreover, ChatGPT exhibits a degree of interactivity and responsiveness that transcends traditional chatbots, thanks to its ability to generate dynamic and contextually appropriate responses based on user inputs in real-time. This responsiveness, coupled with its ability to maintain coherence and relevance over extended conversations, contributes to a more engaging and satisfying user experience.\n",
      "\n",
      "In essence, ChatGPT stands as a testament to the remarkable progress achieved in the field of artificial intelligence, showcasing not only the power of modern machine learning techniques but also the potential for AI to augment and enhance human communication, creativity, and productivity in profound ways.\n"
     ]
    }
   ],
   "source": [
    "print(TEXT)"
   ]
  },
  {
   "cell_type": "code",
   "execution_count": 210,
   "metadata": {},
   "outputs": [
    {
     "data": {
      "text/plain": [
       "'{\"1\": {\"mcq\": \"multiple choice questions\", \"options\": {\"a\": \"choice here\", \"b\": \"choice here\", \"c\": \"choice here\", \"d\": \"choice here\"}, \"correct\": \"correct answer\"}, \"2\": {\"mcq\": \"multiple choice questions\", \"options\": {\"a\": \"choice here\", \"b\": \"choice here\", \"c\": \"choice here\", \"d\": \"choice here\"}, \"correct\": \"correct answer\"}, \"3\": {\"mcq\": \"multiple choice questions\", \"options\": {\"a\": \"choice here\", \"b\": \"choice here\", \"c\": \"choice here\", \"d\": \"choice here\"}, \"correct\": \"correct answer\"}, \"4\": {\"mcq\": \"multiple choice questions\", \"options\": {\"a\": \"choice here\", \"b\": \"choice here\", \"c\": \"choice here\", \"d\": \"choice here\"}, \"correct\": \"correct answer\"}}'"
      ]
     },
     "execution_count": 210,
     "metadata": {},
     "output_type": "execute_result"
    }
   ],
   "source": [
    "json.dumps(RESPONSE_JSON)"
   ]
  },
  {
   "cell_type": "code",
   "execution_count": 211,
   "metadata": {},
   "outputs": [],
   "source": [
    "NUMBER=5 \n",
    "SUBJECT=\"TRIGONOMETRY\"\n",
    "TONE=\"hard\""
   ]
  },
  {
   "cell_type": "code",
   "execution_count": 212,
   "metadata": {},
   "outputs": [
    {
     "name": "stdout",
     "output_type": "stream",
     "text": [
      "\n",
      "\n",
      "\u001b[1m> Entering new SequentialChain chain...\u001b[0m\n",
      "\n",
      "\n",
      "\u001b[1m> Entering new LLMChain chain...\u001b[0m\n",
      "Prompt after formatting:\n",
      "\u001b[32;1m\u001b[1;3m\n",
      "Text:ChatGPT stands as a pinnacle of technical achievement in the realm of artificial intelligence, boasting an impressive array of capabilities honed through state-of-the-art machine learning techniques. At its core lies a sophisticated neural network architecture, meticulously trained on vast datasets encompassing diverse linguistic patterns and knowledge domains. Through the marvel of deep learning, ChatGPT exhibits a profound understanding of language semantics, syntax, and context, enabling it to comprehend and generate text with remarkable fidelity.\n",
      "\n",
      "One of its defining features is its ability to engage in contextually relevant conversations, seamlessly tracking the flow of dialogue and adapting responses accordingly. Leveraging techniques such as attention mechanisms and transformer architectures, ChatGPT excels at capturing long-range dependencies within text, facilitating coherent and contextually grounded interactions.\n",
      "\n",
      "Furthermore, ChatGPT demonstrates impressive language generation capabilities, capable of producing fluent, diverse, and contextually appropriate responses across a wide range of topics. Whether crafting insightful explanations, generating creative narratives, or providing informative summaries, its language generation prowess is a testament to the sophistication of modern natural language processing.\n",
      "\n",
      "Beyond mere text generation, ChatGPT showcases proficiency in tasks such as text summarization, translation, sentiment analysis, and question-answering, underscoring its versatility and utility across diverse applications. By harnessing advanced techniques like transfer learning and fine-tuning, it can adapt to specific tasks and domains with remarkable efficiency, further expanding its practical utility in real-world scenarios.\n",
      "\n",
      "Moreover, ChatGPT exhibits a degree of interactivity and responsiveness that transcends traditional chatbots, thanks to its ability to generate dynamic and contextually appropriate responses based on user inputs in real-time. This responsiveness, coupled with its ability to maintain coherence and relevance over extended conversations, contributes to a more engaging and satisfying user experience.\n",
      "\n",
      "In essence, ChatGPT stands as a testament to the remarkable progress achieved in the field of artificial intelligence, showcasing not only the power of modern machine learning techniques but also the potential for AI to augment and enhance human communication, creativity, and productivity in profound ways.\n",
      "You are an expert MCQ maker. Given the above text, it is your job to create a quiz  of 5 multiple choice questions for TRIGONOMETRY students in hard tone. \n",
      "Make sure the questions are not repeated and check all the questions to be conforming the text as well.\n",
      "Make sure to format your response like  RESPONSE_JSON below  and use it as a guide. Ensure to make 5 MCQs\n",
      "### RESPONSE_JSON\n",
      "{\"1\": {\"mcq\": \"multiple choice questions\", \"options\": {\"a\": \"choice here\", \"b\": \"choice here\", \"c\": \"choice here\", \"d\": \"choice here\"}, \"correct\": \"correct answer\"}, \"2\": {\"mcq\": \"multiple choice questions\", \"options\": {\"a\": \"choice here\", \"b\": \"choice here\", \"c\": \"choice here\", \"d\": \"choice here\"}, \"correct\": \"correct answer\"}, \"3\": {\"mcq\": \"multiple choice questions\", \"options\": {\"a\": \"choice here\", \"b\": \"choice here\", \"c\": \"choice here\", \"d\": \"choice here\"}, \"correct\": \"correct answer\"}, \"4\": {\"mcq\": \"multiple choice questions\", \"options\": {\"a\": \"choice here\", \"b\": \"choice here\", \"c\": \"choice here\", \"d\": \"choice here\"}, \"correct\": \"correct answer\"}}\n",
      "\n",
      "\u001b[0m\n",
      "\n",
      "\u001b[1m> Finished chain.\u001b[0m\n",
      "\n",
      "\n",
      "\u001b[1m> Entering new LLMChain chain...\u001b[0m\n",
      "Prompt after formatting:\n",
      "\u001b[32;1m\u001b[1;3m\n",
      "Text:ChatGPT stands as a pinnacle of technical achievement in the realm of artificial intelligence, boasting an impressive array of capabilities honed through state-of-the-art machine learning techniques. At its core lies a sophisticated neural network architecture, meticulously trained on vast datasets encompassing diverse linguistic patterns and knowledge domains. Through the marvel of deep learning, ChatGPT exhibits a profound understanding of language semantics, syntax, and context, enabling it to comprehend and generate text with remarkable fidelity.\n",
      "\n",
      "One of its defining features is its ability to engage in contextually relevant conversations, seamlessly tracking the flow of dialogue and adapting responses accordingly. Leveraging techniques such as attention mechanisms and transformer architectures, ChatGPT excels at capturing long-range dependencies within text, facilitating coherent and contextually grounded interactions.\n",
      "\n",
      "Furthermore, ChatGPT demonstrates impressive language generation capabilities, capable of producing fluent, diverse, and contextually appropriate responses across a wide range of topics. Whether crafting insightful explanations, generating creative narratives, or providing informative summaries, its language generation prowess is a testament to the sophistication of modern natural language processing.\n",
      "\n",
      "Beyond mere text generation, ChatGPT showcases proficiency in tasks such as text summarization, translation, sentiment analysis, and question-answering, underscoring its versatility and utility across diverse applications. By harnessing advanced techniques like transfer learning and fine-tuning, it can adapt to specific tasks and domains with remarkable efficiency, further expanding its practical utility in real-world scenarios.\n",
      "\n",
      "Moreover, ChatGPT exhibits a degree of interactivity and responsiveness that transcends traditional chatbots, thanks to its ability to generate dynamic and contextually appropriate responses based on user inputs in real-time. This responsiveness, coupled with its ability to maintain coherence and relevance over extended conversations, contributes to a more engaging and satisfying user experience.\n",
      "\n",
      "In essence, ChatGPT stands as a testament to the remarkable progress achieved in the field of artificial intelligence, showcasing not only the power of modern machine learning techniques but also the potential for AI to augment and enhance human communication, creativity, and productivity in profound ways.\n",
      "You are an expert MCQ maker. Given the above text, it is your job to create a quiz  of 5 multiple choice questions for TRIGONOMETRY students in hard tone. \n",
      "Make sure the questions are not repeated and check all the questions to be conforming the text as well.\n",
      "Make sure to format your response like  RESPONSE_JSON below  and use it as a guide. Ensure to make 5 MCQs\n",
      "### RESPONSE_JSON\n",
      "{\"1\": {\"mcq\": \"multiple choice questions\", \"options\": {\"a\": \"choice here\", \"b\": \"choice here\", \"c\": \"choice here\", \"d\": \"choice here\"}, \"correct\": \"correct answer\"}, \"2\": {\"mcq\": \"multiple choice questions\", \"options\": {\"a\": \"choice here\", \"b\": \"choice here\", \"c\": \"choice here\", \"d\": \"choice here\"}, \"correct\": \"correct answer\"}, \"3\": {\"mcq\": \"multiple choice questions\", \"options\": {\"a\": \"choice here\", \"b\": \"choice here\", \"c\": \"choice here\", \"d\": \"choice here\"}, \"correct\": \"correct answer\"}, \"4\": {\"mcq\": \"multiple choice questions\", \"options\": {\"a\": \"choice here\", \"b\": \"choice here\", \"c\": \"choice here\", \"d\": \"choice here\"}, \"correct\": \"correct answer\"}}\n",
      "\n",
      "\u001b[0m\n",
      "\n",
      "\u001b[1m> Finished chain.\u001b[0m\n",
      "\n",
      "\u001b[1m> Finished chain.\u001b[0m\n"
     ]
    }
   ],
   "source": [
    "#setting up Token usage tracking in langchain\n",
    "with get_openai_callback() as cb:\n",
    "    response=generate_evaluate_chain(\n",
    "        {\n",
    "        \"text\":TEXT,\n",
    "        \"number\":NUMBER,\n",
    "        \"subject\":SUBJECT,\n",
    "        \"tone\":TONE,\n",
    "        \"response_json\":json.dumps(RESPONSE_JSON)\n",
    "        }\n",
    "    )"
   ]
  },
  {
   "cell_type": "code",
   "execution_count": 213,
   "metadata": {},
   "outputs": [
    {
     "name": "stdout",
     "output_type": "stream",
     "text": [
      "total tokens:2125\n",
      "Prompt tokens:1418\n",
      "Completion tokens:707\n",
      "total cost:0.003541\n"
     ]
    }
   ],
   "source": [
    "print(f\"total tokens:{cb.total_tokens}\")\n",
    "print(f\"Prompt tokens:{cb.prompt_tokens}\")\n",
    "print(f\"Completion tokens:{cb.completion_tokens}\")\n",
    "print(f\"total cost:{cb.total_cost}\")"
   ]
  },
  {
   "cell_type": "code",
   "execution_count": 214,
   "metadata": {},
   "outputs": [],
   "source": [
    "quiz=response.get(\"quiz\")"
   ]
  },
  {
   "cell_type": "code",
   "execution_count": 215,
   "metadata": {},
   "outputs": [
    {
     "data": {
      "text/plain": [
       "str"
      ]
     },
     "execution_count": 215,
     "metadata": {},
     "output_type": "execute_result"
    }
   ],
   "source": [
    "type(quiz)"
   ]
  },
  {
   "cell_type": "code",
   "execution_count": 216,
   "metadata": {},
   "outputs": [],
   "source": [
    "quiz=json.loads(quiz)"
   ]
  },
  {
   "cell_type": "code",
   "execution_count": 217,
   "metadata": {},
   "outputs": [
    {
     "data": {
      "text/plain": [
       "{'1': {'mcq': 'In the realm of artificial intelligence, which technique is predominantly used in ChatGPT for language understanding?',\n",
       "  'options': {'a': 'Regression analysis',\n",
       "   'b': 'Decision trees',\n",
       "   'c': 'Machine learning',\n",
       "   'd': 'Trigonometry'},\n",
       "  'correct': 'c'},\n",
       " '2': {'mcq': 'What is one of the defining features of ChatGPT mentioned in the text?',\n",
       "  'options': {'a': 'Ability to bake cookies',\n",
       "   'b': 'Ability to engage in contextually relevant conversations',\n",
       "   'c': 'Ability to fly',\n",
       "   'd': 'Ability to teleport'},\n",
       "  'correct': 'b'},\n",
       " '3': {'mcq': 'Which technique does ChatGPT leverage to capture long-range dependencies within text?',\n",
       "  'options': {'a': 'Attention mechanisms',\n",
       "   'b': 'Algebraic equations',\n",
       "   'c': 'Geometry theorems',\n",
       "   'd': 'Calculus derivatives'},\n",
       "  'correct': 'a'},\n",
       " '4': {'mcq': 'What is one of the language generation capabilities of ChatGPT mentioned in the text?',\n",
       "  'options': {'a': 'Playing the piano',\n",
       "   'b': 'Producing fluent and diverse responses',\n",
       "   'c': 'Painting portraits',\n",
       "   'd': 'Cooking gourmet meals'},\n",
       "  'correct': 'b'},\n",
       " '5': {'mcq': 'Which task is NOT mentioned as a proficiency of ChatGPT in the text?',\n",
       "  'options': {'a': 'Text summarization',\n",
       "   'b': 'Translation',\n",
       "   'c': 'Sentiment analysis',\n",
       "   'd': 'Solving trigonometric equations'},\n",
       "  'correct': 'd'}}"
      ]
     },
     "execution_count": 217,
     "metadata": {},
     "output_type": "execute_result"
    }
   ],
   "source": [
    "quiz"
   ]
  },
  {
   "cell_type": "code",
   "execution_count": 218,
   "metadata": {},
   "outputs": [],
   "source": [
    "quiz_table_data = []\n",
    "for key, value in quiz.items():\n",
    "    mcq = value[\"mcq\"]\n",
    "    options = \" | \".join(\n",
    "        [\n",
    "            f\"{option}: {option_value}\"\n",
    "            for option, option_value in value[\"options\"].items()\n",
    "            ]\n",
    "        )\n",
    "    correct = value[\"correct\"]\n",
    "    quiz_table_data.append({\"MCQ\": mcq, \"Choices\": options, \"Correct\": correct})"
   ]
  },
  {
   "cell_type": "code",
   "execution_count": 219,
   "metadata": {},
   "outputs": [
    {
     "data": {
      "text/plain": [
       "[{'MCQ': 'In the realm of artificial intelligence, which technique is predominantly used in ChatGPT for language understanding?',\n",
       "  'Choices': 'a: Regression analysis | b: Decision trees | c: Machine learning | d: Trigonometry',\n",
       "  'Correct': 'c'},\n",
       " {'MCQ': 'What is one of the defining features of ChatGPT mentioned in the text?',\n",
       "  'Choices': 'a: Ability to bake cookies | b: Ability to engage in contextually relevant conversations | c: Ability to fly | d: Ability to teleport',\n",
       "  'Correct': 'b'},\n",
       " {'MCQ': 'Which technique does ChatGPT leverage to capture long-range dependencies within text?',\n",
       "  'Choices': 'a: Attention mechanisms | b: Algebraic equations | c: Geometry theorems | d: Calculus derivatives',\n",
       "  'Correct': 'a'},\n",
       " {'MCQ': 'What is one of the language generation capabilities of ChatGPT mentioned in the text?',\n",
       "  'Choices': 'a: Playing the piano | b: Producing fluent and diverse responses | c: Painting portraits | d: Cooking gourmet meals',\n",
       "  'Correct': 'b'},\n",
       " {'MCQ': 'Which task is NOT mentioned as a proficiency of ChatGPT in the text?',\n",
       "  'Choices': 'a: Text summarization | b: Translation | c: Sentiment analysis | d: Solving trigonometric equations',\n",
       "  'Correct': 'd'}]"
      ]
     },
     "execution_count": 219,
     "metadata": {},
     "output_type": "execute_result"
    }
   ],
   "source": [
    "quiz_table_data\n"
   ]
  },
  {
   "cell_type": "code",
   "execution_count": 220,
   "metadata": {},
   "outputs": [],
   "source": [
    "quiz=pd.DataFrame(quiz_table_data)"
   ]
  },
  {
   "cell_type": "code",
   "execution_count": 221,
   "metadata": {},
   "outputs": [],
   "source": [
    "quiz.to_csv(\"machinelearning.csv\",index=False)"
   ]
  },
  {
   "cell_type": "code",
   "execution_count": 222,
   "metadata": {},
   "outputs": [
    {
     "data": {
      "text/plain": [
       "'05_15_2024_22_51_53'"
      ]
     },
     "execution_count": 222,
     "metadata": {},
     "output_type": "execute_result"
    }
   ],
   "source": [
    "from datetime import datetime\n",
    "datetime.now().strftime('%m_%d_%Y_%H_%M_%S')"
   ]
  },
  {
   "cell_type": "code",
   "execution_count": null,
   "metadata": {},
   "outputs": [],
   "source": []
  }
 ],
 "metadata": {
  "kernelspec": {
   "display_name": "Python 3",
   "language": "python",
   "name": "python3"
  },
  "language_info": {
   "codemirror_mode": {
    "name": "ipython",
    "version": 3
   },
   "file_extension": ".py",
   "mimetype": "text/x-python",
   "name": "python",
   "nbconvert_exporter": "python",
   "pygments_lexer": "ipython3",
   "version": "3.8.19"
  }
 },
 "nbformat": 4,
 "nbformat_minor": 2
}
